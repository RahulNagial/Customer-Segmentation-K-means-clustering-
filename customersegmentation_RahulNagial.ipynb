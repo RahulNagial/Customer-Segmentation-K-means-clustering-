{
 "cells": [
  {
   "cell_type": "markdown",
   "metadata": {
    "heading_collapsed": true
   },
   "source": [
    "# Initial Setup"
   ]
  },
  {
   "cell_type": "code",
   "execution_count": 1,
   "metadata": {
    "hidden": true
   },
   "outputs": [],
   "source": [
    "# turning off warnings for the notebook\n",
    "import warnings\n",
    "warnings.filterwarnings('ignore')\n",
    "\n",
    "# for data manipulation\n",
    "import pandas as pd\n",
    "import numpy as np\n",
    "\n",
    "# for plotting\n",
    "import matplotlib.pyplot as plt\n",
    "import seaborn as sns\n",
    "\n",
    "# for model building\n",
    "import sklearn\n",
    "from sklearn.preprocessing import StandardScaler, MinMaxScaler\n",
    "from sklearn.cluster import KMeans\n",
    "from sklearn.metrics import silhouette_score\n",
    "\n",
    "# displaying all the columns and row throughout the notebook\n",
    "pd.set_option('display.max_columns', None)\n",
    "pd.set_option('display.max_rows', None)"
   ]
  },
  {
   "cell_type": "code",
   "execution_count": 2,
   "metadata": {
    "hidden": true
   },
   "outputs": [],
   "source": [
    "# reading in the raw data and creating a copy of it to work on\n",
    "df_master = pd.read_excel(\"Data.xlsx\")\n",
    "df = df_master.copy()"
   ]
  },
  {
   "cell_type": "markdown",
   "metadata": {
    "hidden": true
   },
   "source": [
    "Taking a look at the first few entries in the dataframe."
   ]
  },
  {
   "cell_type": "code",
   "execution_count": 3,
   "metadata": {
    "hidden": true
   },
   "outputs": [
    {
     "data": {
      "text/html": [
       "<div>\n",
       "<style scoped>\n",
       "    .dataframe tbody tr th:only-of-type {\n",
       "        vertical-align: middle;\n",
       "    }\n",
       "\n",
       "    .dataframe tbody tr th {\n",
       "        vertical-align: top;\n",
       "    }\n",
       "\n",
       "    .dataframe thead th {\n",
       "        text-align: right;\n",
       "    }\n",
       "</style>\n",
       "<table border=\"1\" class=\"dataframe\">\n",
       "  <thead>\n",
       "    <tr style=\"text-align: right;\">\n",
       "      <th></th>\n",
       "      <th>customerId</th>\n",
       "      <th>productId</th>\n",
       "      <th>date</th>\n",
       "      <th>qtyPurchased</th>\n",
       "      <th>transactionAmount</th>\n",
       "    </tr>\n",
       "  </thead>\n",
       "  <tbody>\n",
       "    <tr>\n",
       "      <th>0</th>\n",
       "      <td>C1</td>\n",
       "      <td>P1</td>\n",
       "      <td>2017-01-01</td>\n",
       "      <td>7</td>\n",
       "      <td>20.3436</td>\n",
       "    </tr>\n",
       "    <tr>\n",
       "      <th>1</th>\n",
       "      <td>C1</td>\n",
       "      <td>P1</td>\n",
       "      <td>2017-02-01</td>\n",
       "      <td>6</td>\n",
       "      <td>17.5826</td>\n",
       "    </tr>\n",
       "    <tr>\n",
       "      <th>2</th>\n",
       "      <td>C1</td>\n",
       "      <td>P1</td>\n",
       "      <td>2017-03-01</td>\n",
       "      <td>7</td>\n",
       "      <td>21.9440</td>\n",
       "    </tr>\n",
       "    <tr>\n",
       "      <th>3</th>\n",
       "      <td>C1</td>\n",
       "      <td>P1</td>\n",
       "      <td>2017-04-01</td>\n",
       "      <td>7</td>\n",
       "      <td>21.2027</td>\n",
       "    </tr>\n",
       "    <tr>\n",
       "      <th>4</th>\n",
       "      <td>C1</td>\n",
       "      <td>P1</td>\n",
       "      <td>2017-05-01</td>\n",
       "      <td>8</td>\n",
       "      <td>26.9709</td>\n",
       "    </tr>\n",
       "    <tr>\n",
       "      <th>5</th>\n",
       "      <td>C1</td>\n",
       "      <td>P1</td>\n",
       "      <td>2017-06-01</td>\n",
       "      <td>7</td>\n",
       "      <td>25.1740</td>\n",
       "    </tr>\n",
       "    <tr>\n",
       "      <th>6</th>\n",
       "      <td>C1</td>\n",
       "      <td>P1</td>\n",
       "      <td>2017-07-01</td>\n",
       "      <td>7</td>\n",
       "      <td>24.2406</td>\n",
       "    </tr>\n",
       "    <tr>\n",
       "      <th>7</th>\n",
       "      <td>C1</td>\n",
       "      <td>P1</td>\n",
       "      <td>2017-08-01</td>\n",
       "      <td>8</td>\n",
       "      <td>26.1250</td>\n",
       "    </tr>\n",
       "    <tr>\n",
       "      <th>8</th>\n",
       "      <td>C1</td>\n",
       "      <td>P1</td>\n",
       "      <td>2017-09-01</td>\n",
       "      <td>7</td>\n",
       "      <td>22.8166</td>\n",
       "    </tr>\n",
       "    <tr>\n",
       "      <th>9</th>\n",
       "      <td>C1</td>\n",
       "      <td>P1</td>\n",
       "      <td>2017-10-01</td>\n",
       "      <td>6</td>\n",
       "      <td>20.9907</td>\n",
       "    </tr>\n",
       "    <tr>\n",
       "      <th>10</th>\n",
       "      <td>C1</td>\n",
       "      <td>P1</td>\n",
       "      <td>2017-11-01</td>\n",
       "      <td>5</td>\n",
       "      <td>18.3799</td>\n",
       "    </tr>\n",
       "    <tr>\n",
       "      <th>11</th>\n",
       "      <td>C1</td>\n",
       "      <td>P1</td>\n",
       "      <td>2017-12-01</td>\n",
       "      <td>5</td>\n",
       "      <td>15.9754</td>\n",
       "    </tr>\n",
       "    <tr>\n",
       "      <th>12</th>\n",
       "      <td>C1</td>\n",
       "      <td>P1</td>\n",
       "      <td>2018-01-01</td>\n",
       "      <td>5</td>\n",
       "      <td>17.2088</td>\n",
       "    </tr>\n",
       "    <tr>\n",
       "      <th>13</th>\n",
       "      <td>C1</td>\n",
       "      <td>P1</td>\n",
       "      <td>2018-02-01</td>\n",
       "      <td>5</td>\n",
       "      <td>16.0587</td>\n",
       "    </tr>\n",
       "    <tr>\n",
       "      <th>14</th>\n",
       "      <td>C1</td>\n",
       "      <td>P1</td>\n",
       "      <td>2018-03-01</td>\n",
       "      <td>6</td>\n",
       "      <td>20.5629</td>\n",
       "    </tr>\n",
       "    <tr>\n",
       "      <th>15</th>\n",
       "      <td>C1</td>\n",
       "      <td>P1</td>\n",
       "      <td>2018-04-01</td>\n",
       "      <td>7</td>\n",
       "      <td>21.4916</td>\n",
       "    </tr>\n",
       "    <tr>\n",
       "      <th>16</th>\n",
       "      <td>C1</td>\n",
       "      <td>P1</td>\n",
       "      <td>2018-05-01</td>\n",
       "      <td>7</td>\n",
       "      <td>24.8101</td>\n",
       "    </tr>\n",
       "    <tr>\n",
       "      <th>17</th>\n",
       "      <td>C1</td>\n",
       "      <td>P1</td>\n",
       "      <td>2018-06-01</td>\n",
       "      <td>7</td>\n",
       "      <td>22.2431</td>\n",
       "    </tr>\n",
       "    <tr>\n",
       "      <th>18</th>\n",
       "      <td>C1</td>\n",
       "      <td>P1</td>\n",
       "      <td>2018-07-01</td>\n",
       "      <td>7</td>\n",
       "      <td>22.3986</td>\n",
       "    </tr>\n",
       "    <tr>\n",
       "      <th>19</th>\n",
       "      <td>C1</td>\n",
       "      <td>P1</td>\n",
       "      <td>2018-08-01</td>\n",
       "      <td>6</td>\n",
       "      <td>20.8793</td>\n",
       "    </tr>\n",
       "  </tbody>\n",
       "</table>\n",
       "</div>"
      ],
      "text/plain": [
       "   customerId productId       date  qtyPurchased  transactionAmount\n",
       "0          C1        P1 2017-01-01             7            20.3436\n",
       "1          C1        P1 2017-02-01             6            17.5826\n",
       "2          C1        P1 2017-03-01             7            21.9440\n",
       "3          C1        P1 2017-04-01             7            21.2027\n",
       "4          C1        P1 2017-05-01             8            26.9709\n",
       "5          C1        P1 2017-06-01             7            25.1740\n",
       "6          C1        P1 2017-07-01             7            24.2406\n",
       "7          C1        P1 2017-08-01             8            26.1250\n",
       "8          C1        P1 2017-09-01             7            22.8166\n",
       "9          C1        P1 2017-10-01             6            20.9907\n",
       "10         C1        P1 2017-11-01             5            18.3799\n",
       "11         C1        P1 2017-12-01             5            15.9754\n",
       "12         C1        P1 2018-01-01             5            17.2088\n",
       "13         C1        P1 2018-02-01             5            16.0587\n",
       "14         C1        P1 2018-03-01             6            20.5629\n",
       "15         C1        P1 2018-04-01             7            21.4916\n",
       "16         C1        P1 2018-05-01             7            24.8101\n",
       "17         C1        P1 2018-06-01             7            22.2431\n",
       "18         C1        P1 2018-07-01             7            22.3986\n",
       "19         C1        P1 2018-08-01             6            20.8793"
      ]
     },
     "execution_count": 3,
     "metadata": {},
     "output_type": "execute_result"
    }
   ],
   "source": [
    "df[:20]"
   ]
  },
  {
   "cell_type": "markdown",
   "metadata": {
    "hidden": true
   },
   "source": [
    "Checking for duplicated rows. None found."
   ]
  },
  {
   "cell_type": "code",
   "execution_count": 4,
   "metadata": {
    "hidden": true
   },
   "outputs": [
    {
     "data": {
      "text/plain": [
       "0"
      ]
     },
     "execution_count": 4,
     "metadata": {},
     "output_type": "execute_result"
    }
   ],
   "source": [
    "df.duplicated().sum()"
   ]
  },
  {
   "cell_type": "code",
   "execution_count": 5,
   "metadata": {
    "hidden": true
   },
   "outputs": [
    {
     "data": {
      "text/plain": [
       "(16560, 5)"
      ]
     },
     "execution_count": 5,
     "metadata": {},
     "output_type": "execute_result"
    }
   ],
   "source": [
    "df.shape"
   ]
  },
  {
   "cell_type": "code",
   "execution_count": 6,
   "metadata": {
    "hidden": true,
    "scrolled": true
   },
   "outputs": [
    {
     "name": "stdout",
     "output_type": "stream",
     "text": [
      "<class 'pandas.core.frame.DataFrame'>\n",
      "RangeIndex: 16560 entries, 0 to 16559\n",
      "Data columns (total 5 columns):\n",
      " #   Column             Non-Null Count  Dtype         \n",
      "---  ------             --------------  -----         \n",
      " 0   customerId         16560 non-null  object        \n",
      " 1   productId          16560 non-null  object        \n",
      " 2   date               16560 non-null  datetime64[ns]\n",
      " 3   qtyPurchased       16560 non-null  int64         \n",
      " 4   transactionAmount  16560 non-null  float64       \n",
      "dtypes: datetime64[ns](1), float64(1), int64(1), object(2)\n",
      "memory usage: 647.0+ KB\n"
     ]
    }
   ],
   "source": [
    "df.info()"
   ]
  },
  {
   "cell_type": "markdown",
   "metadata": {
    "hidden": true
   },
   "source": [
    "There are no missing values in the raw data. Overall, the provided data looks clean and ready for analysis. "
   ]
  },
  {
   "cell_type": "code",
   "execution_count": 7,
   "metadata": {
    "hidden": true
   },
   "outputs": [
    {
     "data": {
      "text/html": [
       "<div>\n",
       "<style scoped>\n",
       "    .dataframe tbody tr th:only-of-type {\n",
       "        vertical-align: middle;\n",
       "    }\n",
       "\n",
       "    .dataframe tbody tr th {\n",
       "        vertical-align: top;\n",
       "    }\n",
       "\n",
       "    .dataframe thead th {\n",
       "        text-align: right;\n",
       "    }\n",
       "</style>\n",
       "<table border=\"1\" class=\"dataframe\">\n",
       "  <thead>\n",
       "    <tr style=\"text-align: right;\">\n",
       "      <th></th>\n",
       "      <th>qtyPurchased</th>\n",
       "      <th>transactionAmount</th>\n",
       "    </tr>\n",
       "  </thead>\n",
       "  <tbody>\n",
       "    <tr>\n",
       "      <th>count</th>\n",
       "      <td>16560.000000</td>\n",
       "      <td>16560.000000</td>\n",
       "    </tr>\n",
       "    <tr>\n",
       "      <th>mean</th>\n",
       "      <td>13.155133</td>\n",
       "      <td>77.043838</td>\n",
       "    </tr>\n",
       "    <tr>\n",
       "      <th>std</th>\n",
       "      <td>20.721138</td>\n",
       "      <td>166.298750</td>\n",
       "    </tr>\n",
       "    <tr>\n",
       "      <th>min</th>\n",
       "      <td>0.000000</td>\n",
       "      <td>0.000000</td>\n",
       "    </tr>\n",
       "    <tr>\n",
       "      <th>25%</th>\n",
       "      <td>2.000000</td>\n",
       "      <td>9.062700</td>\n",
       "    </tr>\n",
       "    <tr>\n",
       "      <th>50%</th>\n",
       "      <td>5.000000</td>\n",
       "      <td>26.263100</td>\n",
       "    </tr>\n",
       "    <tr>\n",
       "      <th>75%</th>\n",
       "      <td>15.000000</td>\n",
       "      <td>61.895500</td>\n",
       "    </tr>\n",
       "    <tr>\n",
       "      <th>max</th>\n",
       "      <td>223.000000</td>\n",
       "      <td>1980.412100</td>\n",
       "    </tr>\n",
       "  </tbody>\n",
       "</table>\n",
       "</div>"
      ],
      "text/plain": [
       "       qtyPurchased  transactionAmount\n",
       "count  16560.000000       16560.000000\n",
       "mean      13.155133          77.043838\n",
       "std       20.721138         166.298750\n",
       "min        0.000000           0.000000\n",
       "25%        2.000000           9.062700\n",
       "50%        5.000000          26.263100\n",
       "75%       15.000000          61.895500\n",
       "max      223.000000        1980.412100"
      ]
     },
     "execution_count": 7,
     "metadata": {},
     "output_type": "execute_result"
    }
   ],
   "source": [
    "df.describe()"
   ]
  },
  {
   "cell_type": "markdown",
   "metadata": {
    "hidden": true
   },
   "source": [
    "Used .describe to get an overview of the numerical variables."
   ]
  },
  {
   "cell_type": "code",
   "execution_count": 8,
   "metadata": {
    "hidden": true
   },
   "outputs": [
    {
     "data": {
      "text/plain": [
       "C6     552\n",
       "C12    552\n",
       "C9     552\n",
       "C1     552\n",
       "C17    552\n",
       "C26    552\n",
       "C3     552\n",
       "C20    552\n",
       "C7     552\n",
       "C4     552\n",
       "C13    552\n",
       "C30    552\n",
       "C11    552\n",
       "C21    552\n",
       "C29    552\n",
       "C25    552\n",
       "C19    552\n",
       "C8     552\n",
       "C15    552\n",
       "C23    552\n",
       "C16    552\n",
       "C27    552\n",
       "C28    552\n",
       "C22    552\n",
       "C24    552\n",
       "C10    552\n",
       "C5     552\n",
       "C2     552\n",
       "C14    552\n",
       "C18    552\n",
       "Name: customerId, dtype: int64"
      ]
     },
     "execution_count": 8,
     "metadata": {},
     "output_type": "execute_result"
    }
   ],
   "source": [
    "df[\"customerId\"].value_counts()"
   ]
  },
  {
   "cell_type": "markdown",
   "metadata": {
    "hidden": true
   },
   "source": [
    "This shows that all the customers have equal number of transactions (552)."
   ]
  },
  {
   "cell_type": "code",
   "execution_count": 9,
   "metadata": {
    "hidden": true
   },
   "outputs": [
    {
     "data": {
      "text/plain": [
       "P1     1380\n",
       "P11    1380\n",
       "P12    1380\n",
       "P3     1380\n",
       "P10    1380\n",
       "P9     1380\n",
       "P4     1380\n",
       "P8     1380\n",
       "P6     1380\n",
       "P5     1380\n",
       "P2     1380\n",
       "P7     1380\n",
       "Name: productId, dtype: int64"
      ]
     },
     "execution_count": 9,
     "metadata": {},
     "output_type": "execute_result"
    }
   ],
   "source": [
    "df[\"productId\"].value_counts()"
   ]
  },
  {
   "cell_type": "markdown",
   "metadata": {
    "hidden": true
   },
   "source": [
    "All the products are equally represented in the given data."
   ]
  },
  {
   "cell_type": "code",
   "execution_count": 10,
   "metadata": {
    "hidden": true
   },
   "outputs": [
    {
     "data": {
      "image/png": "[encoded data removed]",
      "text/plain": [
       "<Figure size 432x432 with 1 Axes>"
      ]
     },
     "metadata": {
      "needs_background": "light"
     },
     "output_type": "display_data"
    }
   ],
   "source": [
    "plt.rcParams['figure.figsize'] = (6, 6)\n",
    "sns.distplot(df[\"qtyPurchased\"]);"
   ]
  },
  {
   "cell_type": "code",
   "execution_count": 11,
   "metadata": {
    "hidden": true
   },
   "outputs": [
    {
     "data": {
      "image/png": "[encoded data removed]",
      "text/plain": [
       "<Figure size 432x432 with 1 Axes>"
      ]
     },
     "metadata": {
      "needs_background": "light"
     },
     "output_type": "display_data"
    }
   ],
   "source": [
    "sns.distplot(df[\"transactionAmount\"]);"
   ]
  },
  {
   "cell_type": "markdown",
   "metadata": {
    "hidden": true
   },
   "source": [
    "Plotted and took a quick look at the variables for transaction amount and quantity purchased. Both the distributions are right-skewed."
   ]
  },
  {
   "cell_type": "markdown",
   "metadata": {
    "heading_collapsed": true
   },
   "source": [
    "# Methodology "
   ]
  },
  {
   "cell_type": "markdown",
   "metadata": {
    "hidden": true
   },
   "source": [
    "RFM (Recency, Frequency, Monetary) analysis is a simple tool that has been used for a long time to segment customers depending on their transactional behaviour. RFM values customers on three different metrics and provides an easy approach to target specific customer segments and therefore, helps in reducing marketing costs and improves return on advertising. \n",
    "\n",
    "Recency variable quantifies the time duration since the last transaction the customer had with the buisness. Frequency variable captures the total number of good/services that the customer has bought from the buisness. Monetary variable captures the sum total monetary value of the transactions the customer has had with the buisness. All 3 variables capture important attributes of customer behaviour and therefore are used to segment customer base into meaningful sub-groups. Each of these sub-groups can be analysed and targeted differently by the buisness to maximize their profits.  \n",
    "\n",
    "For the given analysis, I have taken inspiration from RFM analysis and I have used a modified version of it. Recency cannot be used as a variable here since for all the customers in the given dataset, there is atleast one entry for the latest time frame (i.e. Oct'2020). Therefore, value of recency would be same across all the customers and this feature would be redundant. \n",
    "\n",
    "The variables for Frequency and Monetary value can be generated from the provided data for all 30 customers by calculation total number of items bought and total monetary value of items bought respectively. In place of Recency, I generated my own feature Continuity and used it in analysis. Just like Recency, Continuity also captures the customer loyalty. In the data set I noticed that for certain months, some customers are not buying particular products and therefore, there is 0 registered in the qtyPurchased column against these transactions. In order to quantify how many times a customer is not ordering an item, I computed the ratio of non-zero entries in qtyPurchased column against each customer and stored it in the continuity variable. For example, a customer having Continuity as 1 implies that he is ordering consistently across all product types whereas Continuity of say 0.7 signifies that customer is not ordeing for 30% of the total product types across the time frame under consideration. Hence, Continuity variable captures an important aspect of customer behaviour and therefore, I used it in segmentation analysis.   \n",
    "\n",
    "Finally, I used K-means algorithm on Continuity, Frequency and Monetary variables to segment customers as per their transactional behaviour.\n",
    "\n",
    "Note: for more on RFM analysis refer:\n",
    "1. https://searchdatamanagement.techtarget.com/definition/RFM-analysis#:~:text=RFM%20analysis%20is%20a%20marketing,and%20perform%20targeted%20marketing%20campaigns.\n",
    "2. https://towardsdatascience.com/who-is-your-golden-goose-cohort-analysis-50c9de5dbd31\n",
    "3. https://www.dase-analytics.com/blog/en/rfm-analysis/"
   ]
  },
  {
   "cell_type": "markdown",
   "metadata": {
    "heading_collapsed": true
   },
   "source": [
    "# Feature Engineering"
   ]
  },
  {
   "cell_type": "markdown",
   "metadata": {
    "hidden": true
   },
   "source": [
    "As per the logic dicussed in methodology section above, I first calculated continuity, frequency and monetary variables for all 30 customers."
   ]
  },
  {
   "cell_type": "code",
   "execution_count": 12,
   "metadata": {
    "hidden": true
   },
   "outputs": [],
   "source": [
    "continuityscore = []\n",
    "\n",
    "for j in range(0,30):\n",
    "    \n",
    "    customerId = df['customerId'].unique()[j]\n",
    "    temp = (df[df['customerId']==customerId].qtyPurchased != 0)\n",
    "    count = 0\n",
    "\n",
    "    for i in range(0,temp.shape[0]):\n",
    "        if (temp.iloc[i] == True):\n",
    "            count += 1\n",
    "        else:\n",
    "            continue\n",
    "\n",
    "    continuityscore.append(count/temp.shape[0])\n",
    "    \n",
    "    "
   ]
  },
  {
   "cell_type": "code",
   "execution_count": 13,
   "metadata": {
    "hidden": true
   },
   "outputs": [
    {
     "data": {
      "text/plain": [
       "[1.0,\n",
       " 0.9836956521739131,\n",
       " 1.0,\n",
       " 1.0,\n",
       " 1.0,\n",
       " 1.0,\n",
       " 0.9547101449275363,\n",
       " 1.0,\n",
       " 0.8804347826086957,\n",
       " 1.0,\n",
       " 1.0,\n",
       " 1.0,\n",
       " 1.0,\n",
       " 0.9891304347826086,\n",
       " 0.9565217391304348,\n",
       " 0.9112318840579711,\n",
       " 0.9239130434782609,\n",
       " 1.0,\n",
       " 0.6956521739130435,\n",
       " 0.6938405797101449,\n",
       " 0.6739130434782609,\n",
       " 0.6503623188405797,\n",
       " 0.6521739130434783,\n",
       " 0.6739130434782609,\n",
       " 0.6521739130434783,\n",
       " 0.717391304347826,\n",
       " 0.6938405797101449,\n",
       " 0.6394927536231884,\n",
       " 0.6394927536231884,\n",
       " 0.6503623188405797]"
      ]
     },
     "execution_count": 13,
     "metadata": {},
     "output_type": "execute_result"
    }
   ],
   "source": [
    "continuityscore"
   ]
  },
  {
   "cell_type": "code",
   "execution_count": 14,
   "metadata": {
    "hidden": true
   },
   "outputs": [],
   "source": [
    "frequencyscore = []\n",
    "\n",
    "for j in range(0,30):\n",
    "    \n",
    "    customerId = df['customerId'].unique()[j]\n",
    "    frequencyscore.append(df[df['customerId']==customerId].qtyPurchased.sum()) \n",
    "    "
   ]
  },
  {
   "cell_type": "code",
   "execution_count": 15,
   "metadata": {
    "hidden": true
   },
   "outputs": [],
   "source": [
    "monetoryscore = []\n",
    "\n",
    "for j in range(0,30):\n",
    "    \n",
    "    customerId = df['customerId'].unique()[j]\n",
    "    monetoryscore.append(df[df['customerId']==customerId].transactionAmount.sum()) \n"
   ]
  },
  {
   "cell_type": "code",
   "execution_count": 16,
   "metadata": {
    "hidden": true
   },
   "outputs": [],
   "source": [
    "data = {'continuity': continuityscore, 'frequency': frequencyscore, 'monetory': monetoryscore}\n",
    "\n",
    "df_analysis = pd.DataFrame(data)"
   ]
  },
  {
   "cell_type": "markdown",
   "metadata": {
    "hidden": true
   },
   "source": [
    "I created a new dataframe (df_analysis) which contains values for continuity pattern in purchases, frequency of items bought and overall monetary impact for each customer. These scores would be used to segment customers depending on their transactional behaviour using K-means algorithm."
   ]
  },
  {
   "cell_type": "code",
   "execution_count": 17,
   "metadata": {
    "hidden": true,
    "scrolled": false
   },
   "outputs": [
    {
     "data": {
      "text/html": [
       "<div>\n",
       "<style scoped>\n",
       "    .dataframe tbody tr th:only-of-type {\n",
       "        vertical-align: middle;\n",
       "    }\n",
       "\n",
       "    .dataframe tbody tr th {\n",
       "        vertical-align: top;\n",
       "    }\n",
       "\n",
       "    .dataframe thead th {\n",
       "        text-align: right;\n",
       "    }\n",
       "</style>\n",
       "<table border=\"1\" class=\"dataframe\">\n",
       "  <thead>\n",
       "    <tr style=\"text-align: right;\">\n",
       "      <th></th>\n",
       "      <th>continuity</th>\n",
       "      <th>frequency</th>\n",
       "      <th>monetory</th>\n",
       "    </tr>\n",
       "  </thead>\n",
       "  <tbody>\n",
       "    <tr>\n",
       "      <th>0</th>\n",
       "      <td>1.000000</td>\n",
       "      <td>7297</td>\n",
       "      <td>46637.6100</td>\n",
       "    </tr>\n",
       "    <tr>\n",
       "      <th>1</th>\n",
       "      <td>0.983696</td>\n",
       "      <td>7613</td>\n",
       "      <td>36299.3341</td>\n",
       "    </tr>\n",
       "    <tr>\n",
       "      <th>2</th>\n",
       "      <td>1.000000</td>\n",
       "      <td>4317</td>\n",
       "      <td>32959.4547</td>\n",
       "    </tr>\n",
       "    <tr>\n",
       "      <th>3</th>\n",
       "      <td>1.000000</td>\n",
       "      <td>8816</td>\n",
       "      <td>55217.8914</td>\n",
       "    </tr>\n",
       "    <tr>\n",
       "      <th>4</th>\n",
       "      <td>1.000000</td>\n",
       "      <td>12610</td>\n",
       "      <td>85256.5827</td>\n",
       "    </tr>\n",
       "    <tr>\n",
       "      <th>5</th>\n",
       "      <td>1.000000</td>\n",
       "      <td>4575</td>\n",
       "      <td>23084.5374</td>\n",
       "    </tr>\n",
       "    <tr>\n",
       "      <th>6</th>\n",
       "      <td>0.954710</td>\n",
       "      <td>5789</td>\n",
       "      <td>40283.7516</td>\n",
       "    </tr>\n",
       "    <tr>\n",
       "      <th>7</th>\n",
       "      <td>1.000000</td>\n",
       "      <td>7995</td>\n",
       "      <td>55251.4163</td>\n",
       "    </tr>\n",
       "    <tr>\n",
       "      <th>8</th>\n",
       "      <td>0.880435</td>\n",
       "      <td>6579</td>\n",
       "      <td>29823.0293</td>\n",
       "    </tr>\n",
       "    <tr>\n",
       "      <th>9</th>\n",
       "      <td>1.000000</td>\n",
       "      <td>9915</td>\n",
       "      <td>62247.8745</td>\n",
       "    </tr>\n",
       "    <tr>\n",
       "      <th>10</th>\n",
       "      <td>1.000000</td>\n",
       "      <td>20621</td>\n",
       "      <td>127172.6707</td>\n",
       "    </tr>\n",
       "    <tr>\n",
       "      <th>11</th>\n",
       "      <td>1.000000</td>\n",
       "      <td>4400</td>\n",
       "      <td>29185.4318</td>\n",
       "    </tr>\n",
       "    <tr>\n",
       "      <th>12</th>\n",
       "      <td>1.000000</td>\n",
       "      <td>3732</td>\n",
       "      <td>25761.6756</td>\n",
       "    </tr>\n",
       "    <tr>\n",
       "      <th>13</th>\n",
       "      <td>0.989130</td>\n",
       "      <td>8171</td>\n",
       "      <td>39162.8296</td>\n",
       "    </tr>\n",
       "    <tr>\n",
       "      <th>14</th>\n",
       "      <td>0.956522</td>\n",
       "      <td>7341</td>\n",
       "      <td>51893.1184</td>\n",
       "    </tr>\n",
       "    <tr>\n",
       "      <th>15</th>\n",
       "      <td>0.911232</td>\n",
       "      <td>10263</td>\n",
       "      <td>63372.3358</td>\n",
       "    </tr>\n",
       "    <tr>\n",
       "      <th>16</th>\n",
       "      <td>0.923913</td>\n",
       "      <td>6332</td>\n",
       "      <td>40688.7030</td>\n",
       "    </tr>\n",
       "    <tr>\n",
       "      <th>17</th>\n",
       "      <td>1.000000</td>\n",
       "      <td>6203</td>\n",
       "      <td>34788.6741</td>\n",
       "    </tr>\n",
       "    <tr>\n",
       "      <th>18</th>\n",
       "      <td>0.695652</td>\n",
       "      <td>4531</td>\n",
       "      <td>24167.7801</td>\n",
       "    </tr>\n",
       "    <tr>\n",
       "      <th>19</th>\n",
       "      <td>0.693841</td>\n",
       "      <td>5372</td>\n",
       "      <td>33113.5753</td>\n",
       "    </tr>\n",
       "    <tr>\n",
       "      <th>20</th>\n",
       "      <td>0.673913</td>\n",
       "      <td>8305</td>\n",
       "      <td>43340.3823</td>\n",
       "    </tr>\n",
       "    <tr>\n",
       "      <th>21</th>\n",
       "      <td>0.650362</td>\n",
       "      <td>7595</td>\n",
       "      <td>34141.7641</td>\n",
       "    </tr>\n",
       "    <tr>\n",
       "      <th>22</th>\n",
       "      <td>0.652174</td>\n",
       "      <td>7366</td>\n",
       "      <td>44338.5058</td>\n",
       "    </tr>\n",
       "    <tr>\n",
       "      <th>23</th>\n",
       "      <td>0.673913</td>\n",
       "      <td>5998</td>\n",
       "      <td>30730.1866</td>\n",
       "    </tr>\n",
       "    <tr>\n",
       "      <th>24</th>\n",
       "      <td>0.652174</td>\n",
       "      <td>7921</td>\n",
       "      <td>43644.5359</td>\n",
       "    </tr>\n",
       "    <tr>\n",
       "      <th>25</th>\n",
       "      <td>0.717391</td>\n",
       "      <td>6941</td>\n",
       "      <td>32080.5973</td>\n",
       "    </tr>\n",
       "    <tr>\n",
       "      <th>26</th>\n",
       "      <td>0.693841</td>\n",
       "      <td>4317</td>\n",
       "      <td>17142.1890</td>\n",
       "    </tr>\n",
       "    <tr>\n",
       "      <th>27</th>\n",
       "      <td>0.639493</td>\n",
       "      <td>6188</td>\n",
       "      <td>32422.2491</td>\n",
       "    </tr>\n",
       "    <tr>\n",
       "      <th>28</th>\n",
       "      <td>0.639493</td>\n",
       "      <td>4345</td>\n",
       "      <td>30170.5044</td>\n",
       "    </tr>\n",
       "    <tr>\n",
       "      <th>29</th>\n",
       "      <td>0.650362</td>\n",
       "      <td>6401</td>\n",
       "      <td>31466.7602</td>\n",
       "    </tr>\n",
       "  </tbody>\n",
       "</table>\n",
       "</div>"
      ],
      "text/plain": [
       "    continuity  frequency     monetory\n",
       "0     1.000000       7297   46637.6100\n",
       "1     0.983696       7613   36299.3341\n",
       "2     1.000000       4317   32959.4547\n",
       "3     1.000000       8816   55217.8914\n",
       "4     1.000000      12610   85256.5827\n",
       "5     1.000000       4575   23084.5374\n",
       "6     0.954710       5789   40283.7516\n",
       "7     1.000000       7995   55251.4163\n",
       "8     0.880435       6579   29823.0293\n",
       "9     1.000000       9915   62247.8745\n",
       "10    1.000000      20621  127172.6707\n",
       "11    1.000000       4400   29185.4318\n",
       "12    1.000000       3732   25761.6756\n",
       "13    0.989130       8171   39162.8296\n",
       "14    0.956522       7341   51893.1184\n",
       "15    0.911232      10263   63372.3358\n",
       "16    0.923913       6332   40688.7030\n",
       "17    1.000000       6203   34788.6741\n",
       "18    0.695652       4531   24167.7801\n",
       "19    0.693841       5372   33113.5753\n",
       "20    0.673913       8305   43340.3823\n",
       "21    0.650362       7595   34141.7641\n",
       "22    0.652174       7366   44338.5058\n",
       "23    0.673913       5998   30730.1866\n",
       "24    0.652174       7921   43644.5359\n",
       "25    0.717391       6941   32080.5973\n",
       "26    0.693841       4317   17142.1890\n",
       "27    0.639493       6188   32422.2491\n",
       "28    0.639493       4345   30170.5044\n",
       "29    0.650362       6401   31466.7602"
      ]
     },
     "execution_count": 17,
     "metadata": {},
     "output_type": "execute_result"
    }
   ],
   "source": [
    "df_analysis"
   ]
  },
  {
   "cell_type": "markdown",
   "metadata": {
    "hidden": true
   },
   "source": [
    "In df_analysis, rows 0-29 correspond to customers C1-C30 respectively. (Since numbering starts from 0 in python, thus 0 represent C1 and so on.) "
   ]
  },
  {
   "cell_type": "code",
   "execution_count": 18,
   "metadata": {
    "hidden": true
   },
   "outputs": [
    {
     "data": {
      "text/html": [
       "<div>\n",
       "<style scoped>\n",
       "    .dataframe tbody tr th:only-of-type {\n",
       "        vertical-align: middle;\n",
       "    }\n",
       "\n",
       "    .dataframe tbody tr th {\n",
       "        vertical-align: top;\n",
       "    }\n",
       "\n",
       "    .dataframe thead th {\n",
       "        text-align: right;\n",
       "    }\n",
       "</style>\n",
       "<table border=\"1\" class=\"dataframe\">\n",
       "  <thead>\n",
       "    <tr style=\"text-align: right;\">\n",
       "      <th></th>\n",
       "      <th>continuity</th>\n",
       "      <th>frequency</th>\n",
       "      <th>monetory</th>\n",
       "    </tr>\n",
       "  </thead>\n",
       "  <tbody>\n",
       "    <tr>\n",
       "      <th>count</th>\n",
       "      <td>30.000000</td>\n",
       "      <td>30.000000</td>\n",
       "      <td>30.000000</td>\n",
       "    </tr>\n",
       "    <tr>\n",
       "      <th>mean</th>\n",
       "      <td>0.854408</td>\n",
       "      <td>7261.633333</td>\n",
       "      <td>42528.198370</td>\n",
       "    </tr>\n",
       "    <tr>\n",
       "      <th>std</th>\n",
       "      <td>0.157063</td>\n",
       "      <td>3225.099972</td>\n",
       "      <td>21351.832014</td>\n",
       "    </tr>\n",
       "    <tr>\n",
       "      <th>min</th>\n",
       "      <td>0.639493</td>\n",
       "      <td>3732.000000</td>\n",
       "      <td>17142.189000</td>\n",
       "    </tr>\n",
       "    <tr>\n",
       "      <th>25%</th>\n",
       "      <td>0.678895</td>\n",
       "      <td>5476.250000</td>\n",
       "      <td>30914.330000</td>\n",
       "    </tr>\n",
       "    <tr>\n",
       "      <th>50%</th>\n",
       "      <td>0.939312</td>\n",
       "      <td>6760.000000</td>\n",
       "      <td>35544.004100</td>\n",
       "    </tr>\n",
       "    <tr>\n",
       "      <th>75%</th>\n",
       "      <td>1.000000</td>\n",
       "      <td>7976.500000</td>\n",
       "      <td>46062.833950</td>\n",
       "    </tr>\n",
       "    <tr>\n",
       "      <th>max</th>\n",
       "      <td>1.000000</td>\n",
       "      <td>20621.000000</td>\n",
       "      <td>127172.670700</td>\n",
       "    </tr>\n",
       "  </tbody>\n",
       "</table>\n",
       "</div>"
      ],
      "text/plain": [
       "       continuity     frequency       monetory\n",
       "count   30.000000     30.000000      30.000000\n",
       "mean     0.854408   7261.633333   42528.198370\n",
       "std      0.157063   3225.099972   21351.832014\n",
       "min      0.639493   3732.000000   17142.189000\n",
       "25%      0.678895   5476.250000   30914.330000\n",
       "50%      0.939312   6760.000000   35544.004100\n",
       "75%      1.000000   7976.500000   46062.833950\n",
       "max      1.000000  20621.000000  127172.670700"
      ]
     },
     "execution_count": 18,
     "metadata": {},
     "output_type": "execute_result"
    }
   ],
   "source": [
    "df_analysis.describe()"
   ]
  },
  {
   "cell_type": "markdown",
   "metadata": {
    "hidden": true
   },
   "source": [
    "Scales of all the variables are different and this will affect model building since K-means is based on Euclidean distance. Thus, the variables need to be scaled."
   ]
  },
  {
   "cell_type": "code",
   "execution_count": 19,
   "metadata": {
    "hidden": true
   },
   "outputs": [
    {
     "data": {
      "image/png": "[encoded data removed]",
      "text/plain": [
       "<Figure size 432x432 with 1 Axes>"
      ]
     },
     "metadata": {
      "needs_background": "light"
     },
     "output_type": "display_data"
    }
   ],
   "source": [
    "plt.rcParams['figure.figsize'] = (6, 6)\n",
    "sns.distplot(df_analysis[\"frequency\"], bins=25);"
   ]
  },
  {
   "cell_type": "code",
   "execution_count": 20,
   "metadata": {
    "hidden": true
   },
   "outputs": [
    {
     "data": {
      "image/png": "[encoded data removed]",
      "text/plain": [
       "<Figure size 432x432 with 1 Axes>"
      ]
     },
     "metadata": {
      "needs_background": "light"
     },
     "output_type": "display_data"
    }
   ],
   "source": [
    "sns.distplot(df_analysis[\"continuity\"], bins=10);"
   ]
  },
  {
   "cell_type": "code",
   "execution_count": 21,
   "metadata": {
    "hidden": true,
    "scrolled": false
   },
   "outputs": [
    {
     "data": {
      "image/png": "[encoded data removed]",
      "text/plain": [
       "<Figure size 432x432 with 1 Axes>"
      ]
     },
     "metadata": {
      "needs_background": "light"
     },
     "output_type": "display_data"
    }
   ],
   "source": [
    "# monetary spelling correct\n",
    "sns.distplot(df_analysis[\"monetory\"], bins=25);"
   ]
  },
  {
   "cell_type": "markdown",
   "metadata": {
    "hidden": true
   },
   "source": [
    "Monetary and Frequency variable are non-symmetric and right-skewed. Thus to reduce the skewness, I log transformed these two variables."
   ]
  },
  {
   "cell_type": "code",
   "execution_count": 22,
   "metadata": {
    "hidden": true
   },
   "outputs": [],
   "source": [
    "df_analysis['frequency'] = df_analysis['frequency'].apply(lambda x: np.log(x))\n",
    "df_analysis['monetory'] = df_analysis['monetory'].apply(lambda x: np.log(x))"
   ]
  },
  {
   "cell_type": "markdown",
   "metadata": {
    "hidden": true
   },
   "source": [
    "Next I scale all the variables using MinMaxScaler."
   ]
  },
  {
   "cell_type": "code",
   "execution_count": 23,
   "metadata": {
    "hidden": true
   },
   "outputs": [],
   "source": [
    "scaler_1 = MinMaxScaler()\n",
    "df_analysis['frequency'] = scaler_1.fit_transform(np.array(df_analysis['frequency']).reshape(-1, 1))\n",
    "\n",
    "scaler_2 = MinMaxScaler()\n",
    "df_analysis['continuity'] = scaler_1.fit_transform(np.array(df_analysis['continuity']).reshape(-1, 1))\n",
    "\n",
    "scaler_3 = MinMaxScaler()\n",
    "df_analysis['monetory'] = scaler_1.fit_transform(np.array(df_analysis['monetory']).reshape(-1, 1))"
   ]
  },
  {
   "cell_type": "code",
   "execution_count": 24,
   "metadata": {
    "hidden": true
   },
   "outputs": [
    {
     "data": {
      "image/png": "[encoded data removed]",
      "text/plain": [
       "<Figure size 432x432 with 1 Axes>"
      ]
     },
     "metadata": {
      "needs_background": "light"
     },
     "output_type": "display_data"
    }
   ],
   "source": [
    "sns.distplot(df_analysis[\"frequency\"], bins=25);"
   ]
  },
  {
   "cell_type": "code",
   "execution_count": 25,
   "metadata": {
    "hidden": true
   },
   "outputs": [
    {
     "data": {
      "image/png": "[encoded data removed]",
      "text/plain": [
       "<Figure size 432x432 with 1 Axes>"
      ]
     },
     "metadata": {
      "needs_background": "light"
     },
     "output_type": "display_data"
    }
   ],
   "source": [
    "sns.distplot(df_analysis[\"monetory\"], bins=25);"
   ]
  },
  {
   "cell_type": "code",
   "execution_count": 26,
   "metadata": {
    "hidden": true
   },
   "outputs": [
    {
     "data": {
      "image/png": "[encoded data removed]",
      "text/plain": [
       "<Figure size 432x432 with 1 Axes>"
      ]
     },
     "metadata": {
      "needs_background": "light"
     },
     "output_type": "display_data"
    }
   ],
   "source": [
    "sns.distplot(df_analysis[\"continuity\"], bins=25);"
   ]
  },
  {
   "cell_type": "markdown",
   "metadata": {
    "hidden": true
   },
   "source": [
    "All the three variables look symmetric now (approximately). Thus, the variables are good for model building now."
   ]
  },
  {
   "cell_type": "code",
   "execution_count": 27,
   "metadata": {
    "hidden": true
   },
   "outputs": [
    {
     "data": {
      "text/html": [
       "<div>\n",
       "<style scoped>\n",
       "    .dataframe tbody tr th:only-of-type {\n",
       "        vertical-align: middle;\n",
       "    }\n",
       "\n",
       "    .dataframe tbody tr th {\n",
       "        vertical-align: top;\n",
       "    }\n",
       "\n",
       "    .dataframe thead th {\n",
       "        text-align: right;\n",
       "    }\n",
       "</style>\n",
       "<table border=\"1\" class=\"dataframe\">\n",
       "  <thead>\n",
       "    <tr style=\"text-align: right;\">\n",
       "      <th></th>\n",
       "      <th>continuity</th>\n",
       "      <th>frequency</th>\n",
       "      <th>monetory</th>\n",
       "    </tr>\n",
       "  </thead>\n",
       "  <tbody>\n",
       "    <tr>\n",
       "      <th>count</th>\n",
       "      <td>30.000000</td>\n",
       "      <td>30.000000</td>\n",
       "      <td>30.000000</td>\n",
       "    </tr>\n",
       "    <tr>\n",
       "      <th>mean</th>\n",
       "      <td>0.596147</td>\n",
       "      <td>0.348598</td>\n",
       "      <td>0.409597</td>\n",
       "    </tr>\n",
       "    <tr>\n",
       "      <th>std</th>\n",
       "      <td>0.435674</td>\n",
       "      <td>0.210811</td>\n",
       "      <td>0.200922</td>\n",
       "    </tr>\n",
       "    <tr>\n",
       "      <th>min</th>\n",
       "      <td>0.000000</td>\n",
       "      <td>0.000000</td>\n",
       "      <td>0.000000</td>\n",
       "    </tr>\n",
       "    <tr>\n",
       "      <th>25%</th>\n",
       "      <td>0.109296</td>\n",
       "      <td>0.224028</td>\n",
       "      <td>0.294223</td>\n",
       "    </tr>\n",
       "    <tr>\n",
       "      <th>50%</th>\n",
       "      <td>0.831658</td>\n",
       "      <td>0.347334</td>\n",
       "      <td>0.363773</td>\n",
       "    </tr>\n",
       "    <tr>\n",
       "      <th>75%</th>\n",
       "      <td>1.000000</td>\n",
       "      <td>0.444345</td>\n",
       "      <td>0.493126</td>\n",
       "    </tr>\n",
       "    <tr>\n",
       "      <th>max</th>\n",
       "      <td>1.000000</td>\n",
       "      <td>1.000000</td>\n",
       "      <td>1.000000</td>\n",
       "    </tr>\n",
       "  </tbody>\n",
       "</table>\n",
       "</div>"
      ],
      "text/plain": [
       "       continuity  frequency   monetory\n",
       "count   30.000000  30.000000  30.000000\n",
       "mean     0.596147   0.348598   0.409597\n",
       "std      0.435674   0.210811   0.200922\n",
       "min      0.000000   0.000000   0.000000\n",
       "25%      0.109296   0.224028   0.294223\n",
       "50%      0.831658   0.347334   0.363773\n",
       "75%      1.000000   0.444345   0.493126\n",
       "max      1.000000   1.000000   1.000000"
      ]
     },
     "execution_count": 27,
     "metadata": {},
     "output_type": "execute_result"
    }
   ],
   "source": [
    "df_analysis.describe()"
   ]
  },
  {
   "cell_type": "code",
   "execution_count": 28,
   "metadata": {
    "hidden": true
   },
   "outputs": [
    {
     "data": {
      "text/html": [
       "<div>\n",
       "<style scoped>\n",
       "    .dataframe tbody tr th:only-of-type {\n",
       "        vertical-align: middle;\n",
       "    }\n",
       "\n",
       "    .dataframe tbody tr th {\n",
       "        vertical-align: top;\n",
       "    }\n",
       "\n",
       "    .dataframe thead th {\n",
       "        text-align: right;\n",
       "    }\n",
       "</style>\n",
       "<table border=\"1\" class=\"dataframe\">\n",
       "  <thead>\n",
       "    <tr style=\"text-align: right;\">\n",
       "      <th></th>\n",
       "      <th>continuity</th>\n",
       "      <th>frequency</th>\n",
       "      <th>monetory</th>\n",
       "    </tr>\n",
       "  </thead>\n",
       "  <tbody>\n",
       "    <tr>\n",
       "      <th>0</th>\n",
       "      <td>1.000000</td>\n",
       "      <td>0.392262</td>\n",
       "      <td>0.499433</td>\n",
       "    </tr>\n",
       "    <tr>\n",
       "      <th>1</th>\n",
       "      <td>0.954774</td>\n",
       "      <td>0.417063</td>\n",
       "      <td>0.374379</td>\n",
       "    </tr>\n",
       "    <tr>\n",
       "      <th>2</th>\n",
       "      <td>1.000000</td>\n",
       "      <td>0.085187</td>\n",
       "      <td>0.326215</td>\n",
       "    </tr>\n",
       "    <tr>\n",
       "      <th>3</th>\n",
       "      <td>1.000000</td>\n",
       "      <td>0.502891</td>\n",
       "      <td>0.583704</td>\n",
       "    </tr>\n",
       "    <tr>\n",
       "      <th>4</th>\n",
       "      <td>1.000000</td>\n",
       "      <td>0.712279</td>\n",
       "      <td>0.800459</td>\n",
       "    </tr>\n",
       "    <tr>\n",
       "      <th>5</th>\n",
       "      <td>1.000000</td>\n",
       "      <td>0.119145</td>\n",
       "      <td>0.148513</td>\n",
       "    </tr>\n",
       "    <tr>\n",
       "      <th>6</th>\n",
       "      <td>0.874372</td>\n",
       "      <td>0.256829</td>\n",
       "      <td>0.426349</td>\n",
       "    </tr>\n",
       "    <tr>\n",
       "      <th>7</th>\n",
       "      <td>1.000000</td>\n",
       "      <td>0.445705</td>\n",
       "      <td>0.584007</td>\n",
       "    </tr>\n",
       "    <tr>\n",
       "      <th>8</th>\n",
       "      <td>0.668342</td>\n",
       "      <td>0.331666</td>\n",
       "      <td>0.276316</td>\n",
       "    </tr>\n",
       "    <tr>\n",
       "      <th>9</th>\n",
       "      <td>1.000000</td>\n",
       "      <td>0.571618</td>\n",
       "      <td>0.643503</td>\n",
       "    </tr>\n",
       "    <tr>\n",
       "      <th>10</th>\n",
       "      <td>1.000000</td>\n",
       "      <td>1.000000</td>\n",
       "      <td>1.000000</td>\n",
       "    </tr>\n",
       "    <tr>\n",
       "      <th>11</th>\n",
       "      <td>1.000000</td>\n",
       "      <td>0.096328</td>\n",
       "      <td>0.265532</td>\n",
       "    </tr>\n",
       "    <tr>\n",
       "      <th>12</th>\n",
       "      <td>1.000000</td>\n",
       "      <td>0.000000</td>\n",
       "      <td>0.203266</td>\n",
       "    </tr>\n",
       "    <tr>\n",
       "      <th>13</th>\n",
       "      <td>0.969849</td>\n",
       "      <td>0.458443</td>\n",
       "      <td>0.412268</td>\n",
       "    </tr>\n",
       "    <tr>\n",
       "      <th>14</th>\n",
       "      <td>0.879397</td>\n",
       "      <td>0.395779</td>\n",
       "      <td>0.552715</td>\n",
       "    </tr>\n",
       "    <tr>\n",
       "      <th>15</th>\n",
       "      <td>0.753769</td>\n",
       "      <td>0.591799</td>\n",
       "      <td>0.652436</td>\n",
       "    </tr>\n",
       "    <tr>\n",
       "      <th>16</th>\n",
       "      <td>0.788945</td>\n",
       "      <td>0.309280</td>\n",
       "      <td>0.431341</td>\n",
       "    </tr>\n",
       "    <tr>\n",
       "      <th>17</th>\n",
       "      <td>1.000000</td>\n",
       "      <td>0.297238</td>\n",
       "      <td>0.353168</td>\n",
       "    </tr>\n",
       "    <tr>\n",
       "      <th>18</th>\n",
       "      <td>0.155779</td>\n",
       "      <td>0.113491</td>\n",
       "      <td>0.171396</td>\n",
       "    </tr>\n",
       "    <tr>\n",
       "      <th>19</th>\n",
       "      <td>0.150754</td>\n",
       "      <td>0.213094</td>\n",
       "      <td>0.328543</td>\n",
       "    </tr>\n",
       "    <tr>\n",
       "      <th>20</th>\n",
       "      <td>0.095477</td>\n",
       "      <td>0.467959</td>\n",
       "      <td>0.462845</td>\n",
       "    </tr>\n",
       "    <tr>\n",
       "      <th>21</th>\n",
       "      <td>0.030151</td>\n",
       "      <td>0.415678</td>\n",
       "      <td>0.343801</td>\n",
       "    </tr>\n",
       "    <tr>\n",
       "      <th>22</th>\n",
       "      <td>0.035176</td>\n",
       "      <td>0.397768</td>\n",
       "      <td>0.474206</td>\n",
       "    </tr>\n",
       "    <tr>\n",
       "      <th>23</th>\n",
       "      <td>0.095477</td>\n",
       "      <td>0.277578</td>\n",
       "      <td>0.291268</td>\n",
       "    </tr>\n",
       "    <tr>\n",
       "      <th>24</th>\n",
       "      <td>0.035176</td>\n",
       "      <td>0.440265</td>\n",
       "      <td>0.466334</td>\n",
       "    </tr>\n",
       "    <tr>\n",
       "      <th>25</th>\n",
       "      <td>0.216080</td>\n",
       "      <td>0.363001</td>\n",
       "      <td>0.312728</td>\n",
       "    </tr>\n",
       "    <tr>\n",
       "      <th>26</th>\n",
       "      <td>0.150754</td>\n",
       "      <td>0.085187</td>\n",
       "      <td>0.000000</td>\n",
       "    </tr>\n",
       "    <tr>\n",
       "      <th>27</th>\n",
       "      <td>0.000000</td>\n",
       "      <td>0.295822</td>\n",
       "      <td>0.318015</td>\n",
       "    </tr>\n",
       "    <tr>\n",
       "      <th>28</th>\n",
       "      <td>0.000000</td>\n",
       "      <td>0.088970</td>\n",
       "      <td>0.282096</td>\n",
       "    </tr>\n",
       "    <tr>\n",
       "      <th>29</th>\n",
       "      <td>0.030151</td>\n",
       "      <td>0.315620</td>\n",
       "      <td>0.303088</td>\n",
       "    </tr>\n",
       "  </tbody>\n",
       "</table>\n",
       "</div>"
      ],
      "text/plain": [
       "    continuity  frequency  monetory\n",
       "0     1.000000   0.392262  0.499433\n",
       "1     0.954774   0.417063  0.374379\n",
       "2     1.000000   0.085187  0.326215\n",
       "3     1.000000   0.502891  0.583704\n",
       "4     1.000000   0.712279  0.800459\n",
       "5     1.000000   0.119145  0.148513\n",
       "6     0.874372   0.256829  0.426349\n",
       "7     1.000000   0.445705  0.584007\n",
       "8     0.668342   0.331666  0.276316\n",
       "9     1.000000   0.571618  0.643503\n",
       "10    1.000000   1.000000  1.000000\n",
       "11    1.000000   0.096328  0.265532\n",
       "12    1.000000   0.000000  0.203266\n",
       "13    0.969849   0.458443  0.412268\n",
       "14    0.879397   0.395779  0.552715\n",
       "15    0.753769   0.591799  0.652436\n",
       "16    0.788945   0.309280  0.431341\n",
       "17    1.000000   0.297238  0.353168\n",
       "18    0.155779   0.113491  0.171396\n",
       "19    0.150754   0.213094  0.328543\n",
       "20    0.095477   0.467959  0.462845\n",
       "21    0.030151   0.415678  0.343801\n",
       "22    0.035176   0.397768  0.474206\n",
       "23    0.095477   0.277578  0.291268\n",
       "24    0.035176   0.440265  0.466334\n",
       "25    0.216080   0.363001  0.312728\n",
       "26    0.150754   0.085187  0.000000\n",
       "27    0.000000   0.295822  0.318015\n",
       "28    0.000000   0.088970  0.282096\n",
       "29    0.030151   0.315620  0.303088"
      ]
     },
     "execution_count": 28,
     "metadata": {},
     "output_type": "execute_result"
    }
   ],
   "source": [
    "df_analysis"
   ]
  },
  {
   "cell_type": "code",
   "execution_count": 29,
   "metadata": {
    "hidden": true
   },
   "outputs": [],
   "source": [
    "one_quant = df_analysis.describe().continuity[4]\n",
    "mean = df_analysis.describe().continuity[5]\n",
    "three_quant = df_analysis.describe().continuity[6]\n",
    "\n",
    "\n",
    "df_analysis['continuity_score'] = df_analysis['continuity'].apply(\n",
    "    lambda x: 1 if x <= one_quant else (2 if (x <= mean and x > one_quant) else 3))"
   ]
  },
  {
   "cell_type": "code",
   "execution_count": 30,
   "metadata": {
    "hidden": true
   },
   "outputs": [],
   "source": [
    "one_quant = df_analysis.describe().frequency[4]\n",
    "mean = df_analysis.describe().frequency[5]\n",
    "three_quant = df_analysis.describe().frequency[6]\n",
    "\n",
    "\n",
    "df_analysis['frequency_score'] = df_analysis['frequency'].apply(lambda x: 1 if x <= one_quant else (\n",
    "    2 if (x <= mean and x > one_quant) else (3 if (x > mean and x <= three_quant) else 4)))"
   ]
  },
  {
   "cell_type": "code",
   "execution_count": 31,
   "metadata": {
    "hidden": true
   },
   "outputs": [],
   "source": [
    "one_quant = df_analysis.describe().monetory[4]\n",
    "mean = df_analysis.describe().monetory[5]\n",
    "three_quant = df_analysis.describe().monetory[6]\n",
    "\n",
    "\n",
    "df_analysis['monetory_score'] = df_analysis['monetory'].apply(lambda x: 1 if x <= one_quant else (\n",
    "    2 if (x <= mean and x > one_quant) else (3 if (x > mean and x <= three_quant) else 4)))"
   ]
  },
  {
   "cell_type": "markdown",
   "metadata": {
    "hidden": true
   },
   "source": [
    "In the above three code blocks, I converted variables continuity, frequency and monetary into a score based format. If a particular value was within the first quarantile of the the distribution for that variable then I assigned it score 1, if it was in second quarantile then score was 2 and so on. The reasoning behind converting to score was to make the results more intutive and interpretable. K-means clustering can also be performed on the original variables as well, without converting them to score format."
   ]
  },
  {
   "cell_type": "code",
   "execution_count": 32,
   "metadata": {
    "hidden": true
   },
   "outputs": [
    {
     "data": {
      "text/html": [
       "<div>\n",
       "<style scoped>\n",
       "    .dataframe tbody tr th:only-of-type {\n",
       "        vertical-align: middle;\n",
       "    }\n",
       "\n",
       "    .dataframe tbody tr th {\n",
       "        vertical-align: top;\n",
       "    }\n",
       "\n",
       "    .dataframe thead th {\n",
       "        text-align: right;\n",
       "    }\n",
       "</style>\n",
       "<table border=\"1\" class=\"dataframe\">\n",
       "  <thead>\n",
       "    <tr style=\"text-align: right;\">\n",
       "      <th></th>\n",
       "      <th>continuity</th>\n",
       "      <th>frequency</th>\n",
       "      <th>monetory</th>\n",
       "      <th>continuity_score</th>\n",
       "      <th>frequency_score</th>\n",
       "      <th>monetory_score</th>\n",
       "    </tr>\n",
       "  </thead>\n",
       "  <tbody>\n",
       "    <tr>\n",
       "      <th>count</th>\n",
       "      <td>30.000000</td>\n",
       "      <td>30.000000</td>\n",
       "      <td>30.000000</td>\n",
       "      <td>30.000000</td>\n",
       "      <td>30.000000</td>\n",
       "      <td>30.000000</td>\n",
       "    </tr>\n",
       "    <tr>\n",
       "      <th>mean</th>\n",
       "      <td>0.596147</td>\n",
       "      <td>0.348598</td>\n",
       "      <td>0.409597</td>\n",
       "      <td>2.233333</td>\n",
       "      <td>2.500000</td>\n",
       "      <td>2.500000</td>\n",
       "    </tr>\n",
       "    <tr>\n",
       "      <th>std</th>\n",
       "      <td>0.435674</td>\n",
       "      <td>0.210811</td>\n",
       "      <td>0.200922</td>\n",
       "      <td>0.858360</td>\n",
       "      <td>1.167077</td>\n",
       "      <td>1.167077</td>\n",
       "    </tr>\n",
       "    <tr>\n",
       "      <th>min</th>\n",
       "      <td>0.000000</td>\n",
       "      <td>0.000000</td>\n",
       "      <td>0.000000</td>\n",
       "      <td>1.000000</td>\n",
       "      <td>1.000000</td>\n",
       "      <td>1.000000</td>\n",
       "    </tr>\n",
       "    <tr>\n",
       "      <th>25%</th>\n",
       "      <td>0.109296</td>\n",
       "      <td>0.224028</td>\n",
       "      <td>0.294223</td>\n",
       "      <td>1.250000</td>\n",
       "      <td>1.250000</td>\n",
       "      <td>1.250000</td>\n",
       "    </tr>\n",
       "    <tr>\n",
       "      <th>50%</th>\n",
       "      <td>0.831658</td>\n",
       "      <td>0.347334</td>\n",
       "      <td>0.363773</td>\n",
       "      <td>2.500000</td>\n",
       "      <td>2.500000</td>\n",
       "      <td>2.500000</td>\n",
       "    </tr>\n",
       "    <tr>\n",
       "      <th>75%</th>\n",
       "      <td>1.000000</td>\n",
       "      <td>0.444345</td>\n",
       "      <td>0.493126</td>\n",
       "      <td>3.000000</td>\n",
       "      <td>3.750000</td>\n",
       "      <td>3.750000</td>\n",
       "    </tr>\n",
       "    <tr>\n",
       "      <th>max</th>\n",
       "      <td>1.000000</td>\n",
       "      <td>1.000000</td>\n",
       "      <td>1.000000</td>\n",
       "      <td>3.000000</td>\n",
       "      <td>4.000000</td>\n",
       "      <td>4.000000</td>\n",
       "    </tr>\n",
       "  </tbody>\n",
       "</table>\n",
       "</div>"
      ],
      "text/plain": [
       "       continuity  frequency   monetory  continuity_score  frequency_score  \\\n",
       "count   30.000000  30.000000  30.000000         30.000000        30.000000   \n",
       "mean     0.596147   0.348598   0.409597          2.233333         2.500000   \n",
       "std      0.435674   0.210811   0.200922          0.858360         1.167077   \n",
       "min      0.000000   0.000000   0.000000          1.000000         1.000000   \n",
       "25%      0.109296   0.224028   0.294223          1.250000         1.250000   \n",
       "50%      0.831658   0.347334   0.363773          2.500000         2.500000   \n",
       "75%      1.000000   0.444345   0.493126          3.000000         3.750000   \n",
       "max      1.000000   1.000000   1.000000          3.000000         4.000000   \n",
       "\n",
       "       monetory_score  \n",
       "count       30.000000  \n",
       "mean         2.500000  \n",
       "std          1.167077  \n",
       "min          1.000000  \n",
       "25%          1.250000  \n",
       "50%          2.500000  \n",
       "75%          3.750000  \n",
       "max          4.000000  "
      ]
     },
     "execution_count": 32,
     "metadata": {},
     "output_type": "execute_result"
    }
   ],
   "source": [
    "df_analysis.describe()"
   ]
  },
  {
   "cell_type": "markdown",
   "metadata": {
    "hidden": true
   },
   "source": [
    "Next, I will segment the customers (based on last three score columns) using K-means algorithm."
   ]
  },
  {
   "cell_type": "markdown",
   "metadata": {
    "heading_collapsed": true
   },
   "source": [
    "# K-Means Model Fitting"
   ]
  },
  {
   "cell_type": "markdown",
   "metadata": {
    "hidden": true
   },
   "source": [
    "The number of cluster to be used while building a K-means model is a hyper-parameter that needs to be tuned to get optimal numbers of cluster in segmentation. I used elbow method to narrow down the range of optimal number of clusters. I observed the trends for within-cluster sum-of-square distances between centroid and all points in that particular cluster (kmeans.inertia_ variable here) with increasing number of segments. The sum-of-square distances (error) decreases sharply till 3 clusters and plateaus after 5 clusters. Therefore, number of clusters as 3, 4 and 5 were chosen for further analysis.        "
   ]
  },
  {
   "cell_type": "code",
   "execution_count": 33,
   "metadata": {
    "hidden": true,
    "scrolled": false
   },
   "outputs": [
    {
     "data": {
      "image/png": "[encoded data removed]",
      "text/plain": [
       "<Figure size 432x432 with 1 Axes>"
      ]
     },
     "metadata": {
      "needs_background": "light"
     },
     "output_type": "display_data"
    }
   ],
   "source": [
    "SSE = []\n",
    "for k in range(1,10):\n",
    "    kmeans = KMeans(n_clusters=k, random_state=0).fit(df_analysis.iloc[:, 3:6])\n",
    "    SSE.append(kmeans.inertia_)\n",
    "\n",
    "plt.title('The Elbow Method')\n",
    "plt.xlabel('k'); \n",
    "plt.ylabel('Sum of squared errors')    \n",
    "sns.pointplot(x=list(range(1,10)), y = SSE)\n",
    "plt.show()"
   ]
  },
  {
   "cell_type": "markdown",
   "metadata": {
    "hidden": true
   },
   "source": [
    "Next, I built 'snakeplots' to visually observe how different number of clusters affects the segmentation. It can be observed below that for 3 clusters, the segmentation was clear and straightforward. Whereas for 4 and 5 number of clusters, the segmentation was more overlapping and less intutive. In real life, the final decision regarding number of clusters to be used would involve domain expertise. For the sake of problem solving in this notebook, I chose 3 clusters as this segmented customers in a format wherein I could provide clear-cut actionable insights. "
   ]
  },
  {
   "cell_type": "code",
   "execution_count": 34,
   "metadata": {
    "hidden": true
   },
   "outputs": [],
   "source": [
    "# Build k-means clustering model\n",
    "kmeans = KMeans(n_clusters=4, max_iter=400, n_init=20, random_state=0).fit(df_analysis.iloc[:, 3:6])\n",
    "df_analysis['cluster'] = kmeans.labels_"
   ]
  },
  {
   "cell_type": "code",
   "execution_count": 35,
   "metadata": {
    "hidden": true
   },
   "outputs": [
    {
     "data": {
      "image/png": "[encoded data removed]",
      "text/plain": [
       "<Figure size 432x432 with 1 Axes>"
      ]
     },
     "metadata": {
      "needs_background": "light"
     },
     "output_type": "display_data"
    }
   ],
   "source": [
    "df_melted = pd.melt(df_analysis.reset_index(), id_vars=['cluster'], value_vars=['continuity_score', 'frequency_score', 'monetory_score'], var_name = 'Features', value_name='Value')\n",
    "sns.lineplot('Features', 'Value', hue='cluster', data = df_melted, palette='tab10')\n",
    "plt.legend();"
   ]
  },
  {
   "cell_type": "code",
   "execution_count": 36,
   "metadata": {
    "hidden": true
   },
   "outputs": [],
   "source": [
    "kmeans = KMeans(n_clusters=5, max_iter=400, n_init=20, random_state=0).fit(df_analysis.iloc[:, 3:6])\n",
    "df_analysis['cluster'] = kmeans.labels_"
   ]
  },
  {
   "cell_type": "code",
   "execution_count": 37,
   "metadata": {
    "hidden": true
   },
   "outputs": [
    {
     "data": {
      "image/png": "[encoded data removed]",
      "text/plain": [
       "<Figure size 432x432 with 1 Axes>"
      ]
     },
     "metadata": {
      "needs_background": "light"
     },
     "output_type": "display_data"
    }
   ],
   "source": [
    "df_melted = pd.melt(df_analysis.reset_index(), id_vars=['cluster'], value_vars=[\n",
    "                    'continuity_score', 'frequency_score', 'monetory_score'], var_name='Features', value_name='Value')\n",
    "sns.lineplot('Features', 'Value', hue='cluster', data=df_melted, palette='tab10')\n",
    "plt.legend();"
   ]
  },
  {
   "cell_type": "code",
   "execution_count": 38,
   "metadata": {
    "hidden": true
   },
   "outputs": [],
   "source": [
    "kmeans = KMeans(n_clusters=3, max_iter=400, n_init=20, random_state=0).fit(df_analysis.iloc[:, 3:6])\n",
    "center = kmeans.cluster_centers_\n",
    "df_analysis['cluster'] = kmeans.labels_"
   ]
  },
  {
   "cell_type": "code",
   "execution_count": 39,
   "metadata": {
    "hidden": true
   },
   "outputs": [
    {
     "data": {
      "image/png": "[encoded data removed]",
      "text/plain": [
       "<Figure size 432x432 with 1 Axes>"
      ]
     },
     "metadata": {
      "needs_background": "light"
     },
     "output_type": "display_data"
    }
   ],
   "source": [
    "df_melted = pd.melt(df_analysis.reset_index(), id_vars=['cluster'], value_vars=[\n",
    "                    'continuity_score', 'frequency_score', 'monetory_score'], var_name='Features', value_name='Value')\n",
    "sns.lineplot('Features', 'Value', hue='cluster', data=df_melted, palette='tab10')\n",
    "plt.legend();"
   ]
  },
  {
   "cell_type": "markdown",
   "metadata": {
    "hidden": true
   },
   "source": [
    "3 clusters resulted in the best customer segmentation and therefore I chose this particular model as the final one. "
   ]
  },
  {
   "cell_type": "markdown",
   "metadata": {
    "hidden": true
   },
   "source": [
    "The centroids for the three clusters (0,1,2) are as shown below."
   ]
  },
  {
   "cell_type": "code",
   "execution_count": 40,
   "metadata": {
    "hidden": true
   },
   "outputs": [
    {
     "data": {
      "text/html": [
       "<div>\n",
       "<style scoped>\n",
       "    .dataframe tbody tr th:only-of-type {\n",
       "        vertical-align: middle;\n",
       "    }\n",
       "\n",
       "    .dataframe tbody tr th {\n",
       "        vertical-align: top;\n",
       "    }\n",
       "\n",
       "    .dataframe thead th {\n",
       "        text-align: right;\n",
       "    }\n",
       "</style>\n",
       "<table border=\"1\" class=\"dataframe\">\n",
       "  <thead>\n",
       "    <tr style=\"text-align: right;\">\n",
       "      <th></th>\n",
       "      <th>continuity_score</th>\n",
       "      <th>frequency_score</th>\n",
       "      <th>monetory_score</th>\n",
       "    </tr>\n",
       "  </thead>\n",
       "  <tbody>\n",
       "    <tr>\n",
       "      <th>0</th>\n",
       "      <td>2.909091</td>\n",
       "      <td>3.545455</td>\n",
       "      <td>3.727273</td>\n",
       "    </tr>\n",
       "    <tr>\n",
       "      <th>1</th>\n",
       "      <td>2.272727</td>\n",
       "      <td>1.272727</td>\n",
       "      <td>1.272727</td>\n",
       "    </tr>\n",
       "    <tr>\n",
       "      <th>2</th>\n",
       "      <td>1.250000</td>\n",
       "      <td>2.750000</td>\n",
       "      <td>2.500000</td>\n",
       "    </tr>\n",
       "  </tbody>\n",
       "</table>\n",
       "</div>"
      ],
      "text/plain": [
       "   continuity_score  frequency_score  monetory_score\n",
       "0          2.909091         3.545455        3.727273\n",
       "1          2.272727         1.272727        1.272727\n",
       "2          1.250000         2.750000        2.500000"
      ]
     },
     "execution_count": 40,
     "metadata": {},
     "output_type": "execute_result"
    }
   ],
   "source": [
    "pd.DataFrame(center, columns=['continuity_score', 'frequency_score', 'monetory_score'])"
   ]
  },
  {
   "cell_type": "markdown",
   "metadata": {
    "hidden": true
   },
   "source": [
    "The cluster labels have been appended as a column at the end of dataframe. Therefore, the assignment of each customer to a specific cluster can be found (e.g., row 0 corresponds to customer C1 and they have been assigned to cluster 0 and so on)."
   ]
  },
  {
   "cell_type": "code",
   "execution_count": 41,
   "metadata": {
    "hidden": true
   },
   "outputs": [
    {
     "data": {
      "text/html": [
       "<div>\n",
       "<style scoped>\n",
       "    .dataframe tbody tr th:only-of-type {\n",
       "        vertical-align: middle;\n",
       "    }\n",
       "\n",
       "    .dataframe tbody tr th {\n",
       "        vertical-align: top;\n",
       "    }\n",
       "\n",
       "    .dataframe thead th {\n",
       "        text-align: right;\n",
       "    }\n",
       "</style>\n",
       "<table border=\"1\" class=\"dataframe\">\n",
       "  <thead>\n",
       "    <tr style=\"text-align: right;\">\n",
       "      <th></th>\n",
       "      <th>continuity</th>\n",
       "      <th>frequency</th>\n",
       "      <th>monetory</th>\n",
       "      <th>continuity_score</th>\n",
       "      <th>frequency_score</th>\n",
       "      <th>monetory_score</th>\n",
       "      <th>cluster</th>\n",
       "    </tr>\n",
       "  </thead>\n",
       "  <tbody>\n",
       "    <tr>\n",
       "      <th>0</th>\n",
       "      <td>1.000000</td>\n",
       "      <td>0.392262</td>\n",
       "      <td>0.499433</td>\n",
       "      <td>3</td>\n",
       "      <td>3</td>\n",
       "      <td>4</td>\n",
       "      <td>0</td>\n",
       "    </tr>\n",
       "    <tr>\n",
       "      <th>1</th>\n",
       "      <td>0.954774</td>\n",
       "      <td>0.417063</td>\n",
       "      <td>0.374379</td>\n",
       "      <td>3</td>\n",
       "      <td>3</td>\n",
       "      <td>3</td>\n",
       "      <td>0</td>\n",
       "    </tr>\n",
       "    <tr>\n",
       "      <th>2</th>\n",
       "      <td>1.000000</td>\n",
       "      <td>0.085187</td>\n",
       "      <td>0.326215</td>\n",
       "      <td>3</td>\n",
       "      <td>1</td>\n",
       "      <td>2</td>\n",
       "      <td>1</td>\n",
       "    </tr>\n",
       "    <tr>\n",
       "      <th>3</th>\n",
       "      <td>1.000000</td>\n",
       "      <td>0.502891</td>\n",
       "      <td>0.583704</td>\n",
       "      <td>3</td>\n",
       "      <td>4</td>\n",
       "      <td>4</td>\n",
       "      <td>0</td>\n",
       "    </tr>\n",
       "    <tr>\n",
       "      <th>4</th>\n",
       "      <td>1.000000</td>\n",
       "      <td>0.712279</td>\n",
       "      <td>0.800459</td>\n",
       "      <td>3</td>\n",
       "      <td>4</td>\n",
       "      <td>4</td>\n",
       "      <td>0</td>\n",
       "    </tr>\n",
       "    <tr>\n",
       "      <th>5</th>\n",
       "      <td>1.000000</td>\n",
       "      <td>0.119145</td>\n",
       "      <td>0.148513</td>\n",
       "      <td>3</td>\n",
       "      <td>1</td>\n",
       "      <td>1</td>\n",
       "      <td>1</td>\n",
       "    </tr>\n",
       "    <tr>\n",
       "      <th>6</th>\n",
       "      <td>0.874372</td>\n",
       "      <td>0.256829</td>\n",
       "      <td>0.426349</td>\n",
       "      <td>3</td>\n",
       "      <td>2</td>\n",
       "      <td>3</td>\n",
       "      <td>0</td>\n",
       "    </tr>\n",
       "    <tr>\n",
       "      <th>7</th>\n",
       "      <td>1.000000</td>\n",
       "      <td>0.445705</td>\n",
       "      <td>0.584007</td>\n",
       "      <td>3</td>\n",
       "      <td>4</td>\n",
       "      <td>4</td>\n",
       "      <td>0</td>\n",
       "    </tr>\n",
       "    <tr>\n",
       "      <th>8</th>\n",
       "      <td>0.668342</td>\n",
       "      <td>0.331666</td>\n",
       "      <td>0.276316</td>\n",
       "      <td>2</td>\n",
       "      <td>2</td>\n",
       "      <td>1</td>\n",
       "      <td>1</td>\n",
       "    </tr>\n",
       "    <tr>\n",
       "      <th>9</th>\n",
       "      <td>1.000000</td>\n",
       "      <td>0.571618</td>\n",
       "      <td>0.643503</td>\n",
       "      <td>3</td>\n",
       "      <td>4</td>\n",
       "      <td>4</td>\n",
       "      <td>0</td>\n",
       "    </tr>\n",
       "    <tr>\n",
       "      <th>10</th>\n",
       "      <td>1.000000</td>\n",
       "      <td>1.000000</td>\n",
       "      <td>1.000000</td>\n",
       "      <td>3</td>\n",
       "      <td>4</td>\n",
       "      <td>4</td>\n",
       "      <td>0</td>\n",
       "    </tr>\n",
       "    <tr>\n",
       "      <th>11</th>\n",
       "      <td>1.000000</td>\n",
       "      <td>0.096328</td>\n",
       "      <td>0.265532</td>\n",
       "      <td>3</td>\n",
       "      <td>1</td>\n",
       "      <td>1</td>\n",
       "      <td>1</td>\n",
       "    </tr>\n",
       "    <tr>\n",
       "      <th>12</th>\n",
       "      <td>1.000000</td>\n",
       "      <td>0.000000</td>\n",
       "      <td>0.203266</td>\n",
       "      <td>3</td>\n",
       "      <td>1</td>\n",
       "      <td>1</td>\n",
       "      <td>1</td>\n",
       "    </tr>\n",
       "    <tr>\n",
       "      <th>13</th>\n",
       "      <td>0.969849</td>\n",
       "      <td>0.458443</td>\n",
       "      <td>0.412268</td>\n",
       "      <td>3</td>\n",
       "      <td>4</td>\n",
       "      <td>3</td>\n",
       "      <td>0</td>\n",
       "    </tr>\n",
       "    <tr>\n",
       "      <th>14</th>\n",
       "      <td>0.879397</td>\n",
       "      <td>0.395779</td>\n",
       "      <td>0.552715</td>\n",
       "      <td>3</td>\n",
       "      <td>3</td>\n",
       "      <td>4</td>\n",
       "      <td>0</td>\n",
       "    </tr>\n",
       "    <tr>\n",
       "      <th>15</th>\n",
       "      <td>0.753769</td>\n",
       "      <td>0.591799</td>\n",
       "      <td>0.652436</td>\n",
       "      <td>2</td>\n",
       "      <td>4</td>\n",
       "      <td>4</td>\n",
       "      <td>0</td>\n",
       "    </tr>\n",
       "    <tr>\n",
       "      <th>16</th>\n",
       "      <td>0.788945</td>\n",
       "      <td>0.309280</td>\n",
       "      <td>0.431341</td>\n",
       "      <td>2</td>\n",
       "      <td>2</td>\n",
       "      <td>3</td>\n",
       "      <td>2</td>\n",
       "    </tr>\n",
       "    <tr>\n",
       "      <th>17</th>\n",
       "      <td>1.000000</td>\n",
       "      <td>0.297238</td>\n",
       "      <td>0.353168</td>\n",
       "      <td>3</td>\n",
       "      <td>2</td>\n",
       "      <td>2</td>\n",
       "      <td>1</td>\n",
       "    </tr>\n",
       "    <tr>\n",
       "      <th>18</th>\n",
       "      <td>0.155779</td>\n",
       "      <td>0.113491</td>\n",
       "      <td>0.171396</td>\n",
       "      <td>2</td>\n",
       "      <td>1</td>\n",
       "      <td>1</td>\n",
       "      <td>1</td>\n",
       "    </tr>\n",
       "    <tr>\n",
       "      <th>19</th>\n",
       "      <td>0.150754</td>\n",
       "      <td>0.213094</td>\n",
       "      <td>0.328543</td>\n",
       "      <td>2</td>\n",
       "      <td>1</td>\n",
       "      <td>2</td>\n",
       "      <td>1</td>\n",
       "    </tr>\n",
       "    <tr>\n",
       "      <th>20</th>\n",
       "      <td>0.095477</td>\n",
       "      <td>0.467959</td>\n",
       "      <td>0.462845</td>\n",
       "      <td>1</td>\n",
       "      <td>4</td>\n",
       "      <td>3</td>\n",
       "      <td>2</td>\n",
       "    </tr>\n",
       "    <tr>\n",
       "      <th>21</th>\n",
       "      <td>0.030151</td>\n",
       "      <td>0.415678</td>\n",
       "      <td>0.343801</td>\n",
       "      <td>1</td>\n",
       "      <td>3</td>\n",
       "      <td>2</td>\n",
       "      <td>2</td>\n",
       "    </tr>\n",
       "    <tr>\n",
       "      <th>22</th>\n",
       "      <td>0.035176</td>\n",
       "      <td>0.397768</td>\n",
       "      <td>0.474206</td>\n",
       "      <td>1</td>\n",
       "      <td>3</td>\n",
       "      <td>3</td>\n",
       "      <td>2</td>\n",
       "    </tr>\n",
       "    <tr>\n",
       "      <th>23</th>\n",
       "      <td>0.095477</td>\n",
       "      <td>0.277578</td>\n",
       "      <td>0.291268</td>\n",
       "      <td>1</td>\n",
       "      <td>2</td>\n",
       "      <td>1</td>\n",
       "      <td>1</td>\n",
       "    </tr>\n",
       "    <tr>\n",
       "      <th>24</th>\n",
       "      <td>0.035176</td>\n",
       "      <td>0.440265</td>\n",
       "      <td>0.466334</td>\n",
       "      <td>1</td>\n",
       "      <td>3</td>\n",
       "      <td>3</td>\n",
       "      <td>2</td>\n",
       "    </tr>\n",
       "    <tr>\n",
       "      <th>25</th>\n",
       "      <td>0.216080</td>\n",
       "      <td>0.363001</td>\n",
       "      <td>0.312728</td>\n",
       "      <td>2</td>\n",
       "      <td>3</td>\n",
       "      <td>2</td>\n",
       "      <td>2</td>\n",
       "    </tr>\n",
       "    <tr>\n",
       "      <th>26</th>\n",
       "      <td>0.150754</td>\n",
       "      <td>0.085187</td>\n",
       "      <td>0.000000</td>\n",
       "      <td>2</td>\n",
       "      <td>1</td>\n",
       "      <td>1</td>\n",
       "      <td>1</td>\n",
       "    </tr>\n",
       "    <tr>\n",
       "      <th>27</th>\n",
       "      <td>0.000000</td>\n",
       "      <td>0.295822</td>\n",
       "      <td>0.318015</td>\n",
       "      <td>1</td>\n",
       "      <td>2</td>\n",
       "      <td>2</td>\n",
       "      <td>2</td>\n",
       "    </tr>\n",
       "    <tr>\n",
       "      <th>28</th>\n",
       "      <td>0.000000</td>\n",
       "      <td>0.088970</td>\n",
       "      <td>0.282096</td>\n",
       "      <td>1</td>\n",
       "      <td>1</td>\n",
       "      <td>1</td>\n",
       "      <td>1</td>\n",
       "    </tr>\n",
       "    <tr>\n",
       "      <th>29</th>\n",
       "      <td>0.030151</td>\n",
       "      <td>0.315620</td>\n",
       "      <td>0.303088</td>\n",
       "      <td>1</td>\n",
       "      <td>2</td>\n",
       "      <td>2</td>\n",
       "      <td>2</td>\n",
       "    </tr>\n",
       "  </tbody>\n",
       "</table>\n",
       "</div>"
      ],
      "text/plain": [
       "    continuity  frequency  monetory  continuity_score  frequency_score  \\\n",
       "0     1.000000   0.392262  0.499433                 3                3   \n",
       "1     0.954774   0.417063  0.374379                 3                3   \n",
       "2     1.000000   0.085187  0.326215                 3                1   \n",
       "3     1.000000   0.502891  0.583704                 3                4   \n",
       "4     1.000000   0.712279  0.800459                 3                4   \n",
       "5     1.000000   0.119145  0.148513                 3                1   \n",
       "6     0.874372   0.256829  0.426349                 3                2   \n",
       "7     1.000000   0.445705  0.584007                 3                4   \n",
       "8     0.668342   0.331666  0.276316                 2                2   \n",
       "9     1.000000   0.571618  0.643503                 3                4   \n",
       "10    1.000000   1.000000  1.000000                 3                4   \n",
       "11    1.000000   0.096328  0.265532                 3                1   \n",
       "12    1.000000   0.000000  0.203266                 3                1   \n",
       "13    0.969849   0.458443  0.412268                 3                4   \n",
       "14    0.879397   0.395779  0.552715                 3                3   \n",
       "15    0.753769   0.591799  0.652436                 2                4   \n",
       "16    0.788945   0.309280  0.431341                 2                2   \n",
       "17    1.000000   0.297238  0.353168                 3                2   \n",
       "18    0.155779   0.113491  0.171396                 2                1   \n",
       "19    0.150754   0.213094  0.328543                 2                1   \n",
       "20    0.095477   0.467959  0.462845                 1                4   \n",
       "21    0.030151   0.415678  0.343801                 1                3   \n",
       "22    0.035176   0.397768  0.474206                 1                3   \n",
       "23    0.095477   0.277578  0.291268                 1                2   \n",
       "24    0.035176   0.440265  0.466334                 1                3   \n",
       "25    0.216080   0.363001  0.312728                 2                3   \n",
       "26    0.150754   0.085187  0.000000                 2                1   \n",
       "27    0.000000   0.295822  0.318015                 1                2   \n",
       "28    0.000000   0.088970  0.282096                 1                1   \n",
       "29    0.030151   0.315620  0.303088                 1                2   \n",
       "\n",
       "    monetory_score  cluster  \n",
       "0                4        0  \n",
       "1                3        0  \n",
       "2                2        1  \n",
       "3                4        0  \n",
       "4                4        0  \n",
       "5                1        1  \n",
       "6                3        0  \n",
       "7                4        0  \n",
       "8                1        1  \n",
       "9                4        0  \n",
       "10               4        0  \n",
       "11               1        1  \n",
       "12               1        1  \n",
       "13               3        0  \n",
       "14               4        0  \n",
       "15               4        0  \n",
       "16               3        2  \n",
       "17               2        1  \n",
       "18               1        1  \n",
       "19               2        1  \n",
       "20               3        2  \n",
       "21               2        2  \n",
       "22               3        2  \n",
       "23               1        1  \n",
       "24               3        2  \n",
       "25               2        2  \n",
       "26               1        1  \n",
       "27               2        2  \n",
       "28               1        1  \n",
       "29               2        2  "
      ]
     },
     "execution_count": 41,
     "metadata": {},
     "output_type": "execute_result"
    }
   ],
   "source": [
    "df_analysis"
   ]
  },
  {
   "cell_type": "markdown",
   "metadata": {
    "heading_collapsed": true
   },
   "source": [
    "# Insights"
   ]
  },
  {
   "cell_type": "markdown",
   "metadata": {
    "hidden": true
   },
   "source": [
    "The customers were divided into 3 segments (refer plot below). The insights for each segment are as given below:\n",
    "\n",
    "Cluster 0 : (C1, C2, C4, C5, C7, C8, C10, C11, C14, C15, C16)\n",
    "\n",
    "This cluster represents the best customer for our business. Folks in this group are buying items across different product types consistently. The number of items they are buying and the overall money they are spending with the buisness is also high. New, expensive product launches can be aimed at this sub-group as they are the highest spending and most loyal customer base. Also, it doesn't make sense to spend too much marketing and advertisement budget on this group as they are already happy with our business. It makes sense to redirect these funds on other groups to maximize profit for our company. Whatever is being done to engage this group of customers so far is working and there is no immediate incentive to change our approach towards this segment.  \n",
    "\n",
    "Cluster 1 : (C3, C6, C9, C12, C13, C18, C19, C20, C24, C27, C29)\n",
    "\n",
    "Customers in this segment are buying items fairly continuously across different product types. However, in these purchases they are buying few items and these items are not of really high price and therefore, the total positive monetary input they are having for our business is relatively small. I would suggest that we should have targetted Ad campaigns for this group and we can give them discounts on certain higher priced products to pique their interest and drive their overall spending at our business. Also, we can incentize purchase of more item numbers by providing offers like buy 2 get 1 free etc. There is a lot of untapped growth potential in this segment and marketing efforts should be put in to materialize the same.   \n",
    "\n",
    "Cluster 2 : (C17, C21, C22, C23, C25, C26, C28, C30)\n",
    "\n",
    "Customers in this segment are not buying continuously across different product options. One way to influence this behaviour for the benefit of the company would be to incentivise these customers to buy across different products consistently by giving discounts/coupons for more diversified product-type buying behaviour. Also, these customers seem to be buying more of lower valued items (apparent from higher frequency score but not so high monetory score). Therefore, to build customer trust we can offer them higher priced items at highly discounted prices for sometime. Once the customer uses those higher priced products for some time, they will appreciate their quality/usefulness. Later we can withdraw the discount schemes and hopefully, customer would start buying those higher priced products at their original (higher) price, thus driving profit for our business.  "
   ]
  },
  {
   "cell_type": "code",
   "execution_count": 42,
   "metadata": {
    "hidden": true
   },
   "outputs": [
    {
     "data": {
      "image/png": "[encoded data removed]",
      "text/plain": [
       "<Figure size 432x432 with 1 Axes>"
      ]
     },
     "metadata": {
      "needs_background": "light"
     },
     "output_type": "display_data"
    }
   ],
   "source": [
    "sns.lineplot('Features', 'Value', hue='cluster', data=df_melted, palette='tab10')\n",
    "plt.legend();"
   ]
  },
  {
   "cell_type": "markdown",
   "metadata": {
    "heading_collapsed": true
   },
   "source": [
    "# Future Improvements"
   ]
  },
  {
   "cell_type": "markdown",
   "metadata": {
    "hidden": true
   },
   "source": [
    "Down below are a few suggestions that can be implemented in future:\n",
    "\n",
    "1. Density based clustering algorithms (like DBSCAN) can be implemented to see if they lead to better segmentation. DBCAN has the added advantage that it can identify outliers as well.\n",
    "\n",
    "2. Bottom-up hierarchichal clustering approach can also be used in the analysis.\n",
    "\n",
    "3. Weightage can be give to different product types in the continuity variable computation. Say as a business we are interested in selling product P1 more. We can then penalise a customer more if they do not buy product P1 regularly by including appropriate weights while calculating continuity variable.\n",
    "\n"
   ]
  }
 ],
 "metadata": {
  "kernelspec": {
   "display_name": "Python 3",
   "language": "python",
   "name": "python3"
  },
  "language_info": {
   "codemirror_mode": {
    "name": "ipython",
    "version": 3
   },
   "file_extension": ".py",
   "mimetype": "text/x-python",
   "name": "python",
   "nbconvert_exporter": "python",
   "pygments_lexer": "ipython3",
   "version": "3.8.3"
  },
  "toc": {
   "base_numbering": 1,
   "nav_menu": {},
   "number_sections": true,
   "sideBar": true,
   "skip_h1_title": false,
   "title_cell": "Table of Contents",
   "title_sidebar": "Contents",
   "toc_cell": false,
   "toc_position": {},
   "toc_section_display": true,
   "toc_window_display": false
  }
 },
 "nbformat": 4,
 "nbformat_minor": 4
}
